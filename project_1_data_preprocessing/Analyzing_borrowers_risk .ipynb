{
 "cells": [
  {
   "cell_type": "code",
   "execution_count": null,
   "metadata": {},
   "outputs": [],
   "source": []
  },
  {
   "cell_type": "markdown",
   "metadata": {},
   "source": [
    "# project #1 data preprocessing"
   ]
  },
  {
   "cell_type": "code",
   "execution_count": null,
   "metadata": {},
   "outputs": [],
   "source": []
  },
  {
   "cell_type": "markdown",
   "metadata": {},
   "source": [
    "## intruduction "
   ]
  },
  {
   "cell_type": "markdown",
   "metadata": {},
   "source": [
    "### Analyzing borrowers’ risk of defaulting\n",
    "Your project is to prepare a report for a bank’s loan division. <br>\n",
    "You’ll need to find out if a customer’s marital status and number of children has an impact on whether they will default on a loan.<br>\n",
    "The bank already has some data on customers’ credit worthiness.<br>\n",
    "\n",
    "Your report will be considered when building a credit scoring of a potential customer.<br>\n",
    "A ** credit scoring ** is used to evaluate the ability of a potential borrower to repay their loan."
   ]
  },
  {
   "cell_type": "markdown",
   "metadata": {},
   "source": [
    "### Table of Contents\n",
    "* [Setup.](#Setup)\n",
    "* [Functions.](#Functions)\n",
    "* [step 1. Explore the data, Open the data file and read the general information](#1)\n",
    "* [Step 2.Data Preprocessing.](#2)\n",
    "* [2.1 change columns names.](#2.1)\n",
    "* [2.2 Preprocessing fields.](#2.2)\n",
    "* [2.2.1 children.](#2.2.1)\n",
    "* [2.2.2 days_employed](#2.2.2)\n",
    "* [2.2.3 total_income.](#2.2.3)\n",
    "* [2.2.4 age.](#2.2.4)\n",
    "* [2.2.5 days_employed.](#2.2.5)\n",
    "* [2.2.6 education.](#2.2.6)\n",
    "* [2.2.7 purpose.](#2.2.7)\n",
    "* [2.8 Drop added columns.](#2.8)\n",
    "* [2.9 Are there any duplicated values?](#2.9)\n",
    "* [Step 3. Answer these questions:](#3)\n",
    "* [3.1 Is there a connection between having kids and repaying a loan on time?](#3.1)\n",
    "* [3.2 Is there a connection between marital status and repaying a loan on time?](#3.2)\n",
    "* [3.3 Is there a connection between income level and repaying a loan on time?](#3.3)\n",
    "* [3.4 How do different loan purposes affect on-time loan repayment?](#3.4)\n",
    "* [Step 4. Write an overall conclusion.](#4)"
   ]
  },
  {
   "cell_type": "code",
   "execution_count": null,
   "metadata": {},
   "outputs": [],
   "source": []
  },
  {
   "cell_type": "markdown",
   "metadata": {},
   "source": [
    "### Setup.<a class=\"anchor\" id=\"Setup\"></a>"
   ]
  },
  {
   "cell_type": "code",
   "execution_count": 1,
   "metadata": {},
   "outputs": [],
   "source": [
    "import pandas as pd #working with tables\n",
    "import matplotlib.pyplot as plt\n",
    "\n",
    "from nltk.stem import SnowballStemmer #stemming \n",
    "english_stemmer = SnowballStemmer('english') #stemming for english\n",
    "\n",
    "\n",
    "pd.options.display.max_columns = None\n",
    "\n",
    "pd.options.display.max_colwidth = 200\n",
    "\n",
    "pd.options.display.float_format = \"{:,.2f}\".format\n",
    "\n"
   ]
  },
  {
   "cell_type": "code",
   "execution_count": null,
   "metadata": {},
   "outputs": [],
   "source": []
  },
  {
   "cell_type": "markdown",
   "metadata": {},
   "source": [
    "### Functions.<a class=\"anchor\" id=\"Functions\"></a>"
   ]
  },
  {
   "cell_type": "code",
   "execution_count": 2,
   "metadata": {},
   "outputs": [],
   "source": [
    "def df_info(df):\n",
    "    '''\n",
    "    show information regarding the DF.\n",
    "    '''    \n",
    "    display(df.head())\n",
    "    print('shape:', df.shape)\n",
    "    print()\n",
    "    print('******** info() ********')\n",
    "    print(df.info())\n",
    "    print()\n",
    "    print('******** info(memory_usage) ********')\n",
    "    print(df.info(memory_usage = 'deep'))\n",
    "    print()\n",
    "    print('******** describe() ********')\n",
    "    print(df.describe())\n",
    "    print()\n",
    "    print('******** describe(include) ********')\n",
    "    print(df.describe(include = ['object']))"
   ]
  },
  {
   "cell_type": "code",
   "execution_count": 3,
   "metadata": {},
   "outputs": [],
   "source": [
    "def histogram_range(df, col, title, xlable, ylable, range_low, range_high):\n",
    "    '''\n",
    "    print a historgram with range\n",
    "    '''\n",
    "    plt.figure(figsize=(15, 5))\n",
    "    plt.hist(df[col], range = (range_low, range_high)) \n",
    "\n",
    "    plt.title(title)\n",
    "    plt.xlabel(xlable)\n",
    "    plt.ylabel(ylable)\n",
    "    plt.show() "
   ]
  },
  {
   "cell_type": "code",
   "execution_count": 4,
   "metadata": {},
   "outputs": [],
   "source": [
    "def histogram(df,col, title, xlable, ylable):\n",
    "    '''\n",
    "    print a historgram\n",
    "    '''\n",
    "    plt.figure(figsize=(15, 5))\n",
    "    plt.hist(df[col]) \n",
    "\n",
    "    plt.title(title)\n",
    "    plt.xlabel(xlable)\n",
    "    plt.ylabel(ylable)\n",
    "    plt.show() "
   ]
  },
  {
   "cell_type": "code",
   "execution_count": 5,
   "metadata": {},
   "outputs": [],
   "source": [
    "def update_age_by_days_employed_years(row):\n",
    "    '''\n",
    "    For those rows with a value of 0 for age,\n",
    "    we will use their days of employment as a base line,\n",
    "    and we will add to that number 18 years.\n",
    "    '''\n",
    "    age = row['age']\n",
    "    days_employed_years = row['days_employed_years']\n",
    "    \n",
    "    if age == 0:\n",
    "        return (days_employed_years + 18)\n",
    "    return age\n"
   ]
  },
  {
   "cell_type": "code",
   "execution_count": 6,
   "metadata": {},
   "outputs": [],
   "source": [
    "def days_employed_years(days):\n",
    "    '''\n",
    "    calculate days_employed by years\n",
    "    '''\n",
    "    return int(days / 365)\n"
   ]
  },
  {
   "cell_type": "code",
   "execution_count": 7,
   "metadata": {},
   "outputs": [],
   "source": [
    "def update_flag_retiree(row):\n",
    "    '''\n",
    "    flag rows with age over 120\n",
    "    '''    \n",
    "    age = row['age']\n",
    "    income_type = row['income_type']\n",
    "    \n",
    "    if age > 120 and income_type == 'retiree':\n",
    "        return 1\n",
    "    return 0\n"
   ]
  },
  {
   "cell_type": "code",
   "execution_count": 8,
   "metadata": {},
   "outputs": [],
   "source": [
    "def update_age_retiree (row):\n",
    "    '''\n",
    "    for age over 120, update age to 67\n",
    "    '''\n",
    "    age = row['age']\n",
    "    flag_retiree = row['flag_retiree']\n",
    "    \n",
    "    if flag_retiree == 1:\n",
    "        return 67\n",
    "    return age\n"
   ]
  },
  {
   "cell_type": "code",
   "execution_count": 9,
   "metadata": {},
   "outputs": [],
   "source": [
    "def update_days_employed_years_retiree (row):\n",
    "    '''\n",
    "    for age over 120, update days_employed_years to 49\n",
    "    '''\n",
    "    days_employed_years = row['days_employed_years']\n",
    "    flag_retiree = row['flag_retiree']\n",
    "    \n",
    "    if flag_retiree == 1:\n",
    "        return 49\n",
    "    return days_employed_years\n"
   ]
  },
  {
   "cell_type": "code",
   "execution_count": 10,
   "metadata": {},
   "outputs": [],
   "source": [
    "def update_days_employed_retiree (row):\n",
    "    '''\n",
    "    for age over 120, update days_employed to 17885\n",
    "    '''    \n",
    "    days_employed = row['days_employed']\n",
    "    flag_retiree = row['flag_retiree']\n",
    "    \n",
    "    if flag_retiree == 1:\n",
    "        return 17885\n",
    "    return days_employed\n"
   ]
  },
  {
   "cell_type": "code",
   "execution_count": 11,
   "metadata": {},
   "outputs": [],
   "source": [
    "def update_days_employed_by_age(row):\n",
    "    '''\n",
    "    calculate days_employed by age\n",
    "    '''\n",
    "    age = row['age']\n",
    "    days_employed = row['days_employed']\n",
    "    days_employed_years = row['days_employed_years']\n",
    "    \n",
    "    if days_employed_years > 100:\n",
    "        return ((age - 18) * 365)\n",
    "    \n",
    "    return days_employed\n"
   ]
  },
  {
   "cell_type": "code",
   "execution_count": 12,
   "metadata": {},
   "outputs": [],
   "source": [
    "def update_days_employed_years_by_age(row):\n",
    "    '''\n",
    "    calculate days_employed_years by age\n",
    "    '''\n",
    "    age = row['age']\n",
    "    days_employed_years = row['days_employed_years']\n",
    "    \n",
    "    if days_employed_years > 100:\n",
    "        return (age - 18)\n",
    "    \n",
    "    return days_employed_years\n"
   ]
  },
  {
   "cell_type": "code",
   "execution_count": 13,
   "metadata": {},
   "outputs": [],
   "source": [
    "def find_words(row):\n",
    "    '''\n",
    "    sort the values from purpose into 4 categories: \n",
    "    real estate\n",
    "    car\n",
    "    education\n",
    "    wedding\n",
    "    '''\n",
    "    purpose = row['purpose']\n",
    "    \n",
    "    stemmed_query = english_stemmer.stem(purpose)\n",
    "    \n",
    "    if 'real est' in stemmed_query:\n",
    "        return 'real estate'\n",
    "    if 'hous' in stemmed_query:\n",
    "        return 'real estate'\n",
    "    if 'properti' in stemmed_query:\n",
    "        return 'real estate'\n",
    "    if 'property' in stemmed_query:\n",
    "        return 'real estate'\n",
    "    \n",
    "    if 'educ' in stemmed_query:\n",
    "        return 'education'\n",
    "    if 'univers' in stemmed_query:\n",
    "        return 'education'\n",
    "\n",
    "    if 'car' in stemmed_query:\n",
    "        return 'car'\n",
    "\n",
    "    if 'wed' in stemmed_query:\n",
    "        return 'wedding'\n",
    "    \n",
    "    \n",
    "    return stemmed_query"
   ]
  },
  {
   "cell_type": "code",
   "execution_count": 14,
   "metadata": {},
   "outputs": [],
   "source": [
    "def calculate_debt_percent(row):\n",
    "    '''\n",
    "    calculate the % of those with debt\n",
    "    '''\n",
    "    no_debt = row[0]\n",
    "    with_debt = row[1]\n",
    "    \n",
    "    total = no_debt + with_debt\n",
    "    percent =  100 * (with_debt / total)\n",
    "    return percent\n",
    "    "
   ]
  },
  {
   "cell_type": "code",
   "execution_count": null,
   "metadata": {},
   "outputs": [],
   "source": []
  },
  {
   "cell_type": "markdown",
   "metadata": {},
   "source": [
    "### step 1. Explore the data, Open the data file and read the general information<a class=\"anchor\" id=\"1\"></a>"
   ]
  },
  {
   "cell_type": "code",
   "execution_count": 15,
   "metadata": {},
   "outputs": [],
   "source": [
    "credit_scoring = pd.read_csv('credit_scoring_eng.csv')"
   ]
  },
  {
   "cell_type": "code",
   "execution_count": 16,
   "metadata": {},
   "outputs": [
    {
     "data": {
      "text/html": [
       "<div>\n",
       "<style scoped>\n",
       "    .dataframe tbody tr th:only-of-type {\n",
       "        vertical-align: middle;\n",
       "    }\n",
       "\n",
       "    .dataframe tbody tr th {\n",
       "        vertical-align: top;\n",
       "    }\n",
       "\n",
       "    .dataframe thead th {\n",
       "        text-align: right;\n",
       "    }\n",
       "</style>\n",
       "<table border=\"1\" class=\"dataframe\">\n",
       "  <thead>\n",
       "    <tr style=\"text-align: right;\">\n",
       "      <th></th>\n",
       "      <th>children</th>\n",
       "      <th>days_employed</th>\n",
       "      <th>dob_years</th>\n",
       "      <th>education</th>\n",
       "      <th>education_id</th>\n",
       "      <th>family_status</th>\n",
       "      <th>family_status_id</th>\n",
       "      <th>gender</th>\n",
       "      <th>income_type</th>\n",
       "      <th>debt</th>\n",
       "      <th>total_income</th>\n",
       "      <th>purpose</th>\n",
       "    </tr>\n",
       "  </thead>\n",
       "  <tbody>\n",
       "    <tr>\n",
       "      <th>0</th>\n",
       "      <td>1</td>\n",
       "      <td>-8,437.67</td>\n",
       "      <td>42</td>\n",
       "      <td>bachelor's degree</td>\n",
       "      <td>0</td>\n",
       "      <td>married</td>\n",
       "      <td>0</td>\n",
       "      <td>F</td>\n",
       "      <td>employee</td>\n",
       "      <td>0</td>\n",
       "      <td>40,620.10</td>\n",
       "      <td>purchase of the house</td>\n",
       "    </tr>\n",
       "    <tr>\n",
       "      <th>1</th>\n",
       "      <td>1</td>\n",
       "      <td>-4,024.80</td>\n",
       "      <td>36</td>\n",
       "      <td>secondary education</td>\n",
       "      <td>1</td>\n",
       "      <td>married</td>\n",
       "      <td>0</td>\n",
       "      <td>F</td>\n",
       "      <td>employee</td>\n",
       "      <td>0</td>\n",
       "      <td>17,932.80</td>\n",
       "      <td>car purchase</td>\n",
       "    </tr>\n",
       "    <tr>\n",
       "      <th>2</th>\n",
       "      <td>0</td>\n",
       "      <td>-5,623.42</td>\n",
       "      <td>33</td>\n",
       "      <td>Secondary Education</td>\n",
       "      <td>1</td>\n",
       "      <td>married</td>\n",
       "      <td>0</td>\n",
       "      <td>M</td>\n",
       "      <td>employee</td>\n",
       "      <td>0</td>\n",
       "      <td>23,341.75</td>\n",
       "      <td>purchase of the house</td>\n",
       "    </tr>\n",
       "    <tr>\n",
       "      <th>3</th>\n",
       "      <td>3</td>\n",
       "      <td>-4,124.75</td>\n",
       "      <td>32</td>\n",
       "      <td>secondary education</td>\n",
       "      <td>1</td>\n",
       "      <td>married</td>\n",
       "      <td>0</td>\n",
       "      <td>M</td>\n",
       "      <td>employee</td>\n",
       "      <td>0</td>\n",
       "      <td>42,820.57</td>\n",
       "      <td>supplementary education</td>\n",
       "    </tr>\n",
       "    <tr>\n",
       "      <th>4</th>\n",
       "      <td>0</td>\n",
       "      <td>340,266.07</td>\n",
       "      <td>53</td>\n",
       "      <td>secondary education</td>\n",
       "      <td>1</td>\n",
       "      <td>civil partnership</td>\n",
       "      <td>1</td>\n",
       "      <td>F</td>\n",
       "      <td>retiree</td>\n",
       "      <td>0</td>\n",
       "      <td>25,378.57</td>\n",
       "      <td>to have a wedding</td>\n",
       "    </tr>\n",
       "  </tbody>\n",
       "</table>\n",
       "</div>"
      ],
      "text/plain": [
       "   children  days_employed  dob_years            education  education_id  \\\n",
       "0         1      -8,437.67         42    bachelor's degree             0   \n",
       "1         1      -4,024.80         36  secondary education             1   \n",
       "2         0      -5,623.42         33  Secondary Education             1   \n",
       "3         3      -4,124.75         32  secondary education             1   \n",
       "4         0     340,266.07         53  secondary education             1   \n",
       "\n",
       "       family_status  family_status_id gender income_type  debt  total_income  \\\n",
       "0            married                 0      F    employee     0     40,620.10   \n",
       "1            married                 0      F    employee     0     17,932.80   \n",
       "2            married                 0      M    employee     0     23,341.75   \n",
       "3            married                 0      M    employee     0     42,820.57   \n",
       "4  civil partnership                 1      F     retiree     0     25,378.57   \n",
       "\n",
       "                   purpose  \n",
       "0    purchase of the house  \n",
       "1             car purchase  \n",
       "2    purchase of the house  \n",
       "3  supplementary education  \n",
       "4        to have a wedding  "
      ]
     },
     "metadata": {},
     "output_type": "display_data"
    },
    {
     "name": "stdout",
     "output_type": "stream",
     "text": [
      "shape: (21525, 12)\n",
      "\n",
      "******** info() ********\n",
      "<class 'pandas.core.frame.DataFrame'>\n",
      "RangeIndex: 21525 entries, 0 to 21524\n",
      "Data columns (total 12 columns):\n",
      " #   Column            Non-Null Count  Dtype  \n",
      "---  ------            --------------  -----  \n",
      " 0   children          21525 non-null  int64  \n",
      " 1   days_employed     19351 non-null  float64\n",
      " 2   dob_years         21525 non-null  int64  \n",
      " 3   education         21525 non-null  object \n",
      " 4   education_id      21525 non-null  int64  \n",
      " 5   family_status     21525 non-null  object \n",
      " 6   family_status_id  21525 non-null  int64  \n",
      " 7   gender            21525 non-null  object \n",
      " 8   income_type       21525 non-null  object \n",
      " 9   debt              21525 non-null  int64  \n",
      " 10  total_income      19351 non-null  float64\n",
      " 11  purpose           21525 non-null  object \n",
      "dtypes: float64(2), int64(5), object(5)\n",
      "memory usage: 2.0+ MB\n",
      "None\n",
      "\n",
      "******** info(memory_usage) ********\n",
      "<class 'pandas.core.frame.DataFrame'>\n",
      "RangeIndex: 21525 entries, 0 to 21524\n",
      "Data columns (total 12 columns):\n",
      " #   Column            Non-Null Count  Dtype  \n",
      "---  ------            --------------  -----  \n",
      " 0   children          21525 non-null  int64  \n",
      " 1   days_employed     19351 non-null  float64\n",
      " 2   dob_years         21525 non-null  int64  \n",
      " 3   education         21525 non-null  object \n",
      " 4   education_id      21525 non-null  int64  \n",
      " 5   family_status     21525 non-null  object \n",
      " 6   family_status_id  21525 non-null  int64  \n",
      " 7   gender            21525 non-null  object \n",
      " 8   income_type       21525 non-null  object \n",
      " 9   debt              21525 non-null  int64  \n",
      " 10  total_income      19351 non-null  float64\n",
      " 11  purpose           21525 non-null  object \n",
      "dtypes: float64(2), int64(5), object(5)\n",
      "memory usage: 8.3 MB\n",
      "None\n",
      "\n",
      "******** describe() ********\n",
      "       children  days_employed  dob_years  education_id  family_status_id  \\\n",
      "count 21,525.00      19,351.00  21,525.00     21,525.00         21,525.00   \n",
      "mean       0.54      63,046.50      43.29          0.82              0.97   \n",
      "std        1.38     140,827.31      12.57          0.55              1.42   \n",
      "min       -1.00     -18,388.95       0.00          0.00              0.00   \n",
      "25%        0.00      -2,747.42      33.00          1.00              0.00   \n",
      "50%        0.00      -1,203.37      42.00          1.00              0.00   \n",
      "75%        1.00        -291.10      53.00          1.00              1.00   \n",
      "max       20.00     401,755.40      75.00          4.00              4.00   \n",
      "\n",
      "           debt  total_income  \n",
      "count 21,525.00     19,351.00  \n",
      "mean       0.08     26,787.57  \n",
      "std        0.27     16,475.45  \n",
      "min        0.00      3,306.76  \n",
      "25%        0.00     16,488.50  \n",
      "50%        0.00     23,202.87  \n",
      "75%        0.00     32,549.61  \n",
      "max        1.00    362,496.65  \n",
      "\n",
      "******** describe(include) ********\n",
      "                  education family_status gender income_type           purpose\n",
      "count                 21525         21525  21525       21525             21525\n",
      "unique                   15             5      3           8                38\n",
      "top     secondary education       married      F    employee  wedding ceremony\n",
      "freq                  13750         12380  14236       11119               797\n"
     ]
    }
   ],
   "source": [
    "df_info(credit_scoring)"
   ]
  },
  {
   "cell_type": "markdown",
   "metadata": {},
   "source": [
    "Conclusions:<br>\n",
    "- There are 21525 rows. And 12 columns.<br>\n",
    "- days_employed: has some missing and negative values, this need to be corrected. <br>Also, since there are some big numbers, there is no point using a float. <br>Will be changed into int.<br>\n",
    "- education, family_status, income_type, purpose: need to look into these fields for duplications.<br>\n",
    "- total_income: , since there are some big numbers, there is no point using a float. <br>Will be changed into int.\n"
   ]
  },
  {
   "cell_type": "code",
   "execution_count": null,
   "metadata": {},
   "outputs": [],
   "source": []
  },
  {
   "cell_type": "markdown",
   "metadata": {},
   "source": [
    "### Step 2.Data Preprocessing.<a class=\"anchor\" id=\"2\"></a>"
   ]
  },
  {
   "cell_type": "markdown",
   "metadata": {},
   "source": [
    "### 2.1 change columns names.<a class=\"anchor\" id=\"2.1\"></a>"
   ]
  },
  {
   "cell_type": "markdown",
   "metadata": {},
   "source": [
    "change dob_years to: age"
   ]
  },
  {
   "cell_type": "code",
   "execution_count": 17,
   "metadata": {},
   "outputs": [],
   "source": [
    "name_columns = credit_scoring.columns"
   ]
  },
  {
   "cell_type": "code",
   "execution_count": 18,
   "metadata": {},
   "outputs": [],
   "source": [
    "name_columns = name_columns.values.tolist()"
   ]
  },
  {
   "cell_type": "code",
   "execution_count": 19,
   "metadata": {},
   "outputs": [],
   "source": [
    "name_columns[2] = 'age'"
   ]
  },
  {
   "cell_type": "code",
   "execution_count": 20,
   "metadata": {},
   "outputs": [],
   "source": [
    "credit_scoring.columns = name_columns"
   ]
  },
  {
   "cell_type": "code",
   "execution_count": null,
   "metadata": {},
   "outputs": [],
   "source": []
  },
  {
   "cell_type": "markdown",
   "metadata": {},
   "source": [
    "### 2.2 Preprocessing fields.<a class=\"anchor\" id=\"2.2\"></a>"
   ]
  },
  {
   "cell_type": "code",
   "execution_count": null,
   "metadata": {},
   "outputs": [],
   "source": []
  },
  {
   "cell_type": "markdown",
   "metadata": {},
   "source": [
    "### 2.2.1 children.<a class=\"anchor\" id=\"2.2.1\"></a>"
   ]
  },
  {
   "cell_type": "code",
   "execution_count": 21,
   "metadata": {},
   "outputs": [
    {
     "data": {
      "text/plain": [
       " 0     14149\n",
       " 1      4818\n",
       " 2      2055\n",
       " 3       330\n",
       " 20       76\n",
       "-1        47\n",
       " 4        41\n",
       " 5         9\n",
       "Name: children, dtype: int64"
      ]
     },
     "execution_count": 21,
     "metadata": {},
     "output_type": "execute_result"
    }
   ],
   "source": [
    "credit_scoring['children'].value_counts()"
   ]
  },
  {
   "cell_type": "markdown",
   "metadata": {},
   "source": [
    "Conclusions:<br>\n",
    "There are 4818 rows with 1 child. It is the biggest groups among those with children. <br>\n",
    "So we will consider the number -1 to be a typo and replace it with 1.\n"
   ]
  },
  {
   "cell_type": "code",
   "execution_count": 22,
   "metadata": {},
   "outputs": [],
   "source": [
    "credit_scoring.loc[credit_scoring['children'] == -1, 'children'] = 1"
   ]
  },
  {
   "cell_type": "markdown",
   "metadata": {},
   "source": [
    "What is the average number of children ?"
   ]
  },
  {
   "cell_type": "code",
   "execution_count": 23,
   "metadata": {},
   "outputs": [
    {
     "data": {
      "text/plain": [
       "1.585412147505423"
      ]
     },
     "execution_count": 23,
     "metadata": {},
     "output_type": "execute_result"
    }
   ],
   "source": [
    "credit_scoring[credit_scoring['children'] > 0]['children'].mean()"
   ]
  },
  {
   "cell_type": "markdown",
   "metadata": {},
   "source": [
    "What is the average age of people with 20 children ?"
   ]
  },
  {
   "cell_type": "code",
   "execution_count": 24,
   "metadata": {},
   "outputs": [
    {
     "data": {
      "text/plain": [
       "41.81578947368421"
      ]
     },
     "execution_count": 24,
     "metadata": {},
     "output_type": "execute_result"
    }
   ],
   "source": [
    "credit_scoring[credit_scoring['children'] == 20]['age'].mean()"
   ]
  },
  {
   "cell_type": "markdown",
   "metadata": {},
   "source": [
    "Because there is a jump from having 5 children to 20. <br>\n",
    "And having the average age 41, and the average number of children is 1.5, which is actually closer to 2.<br>\n",
    "We will consider the number 20 to be a typo, and change it with 2.\n"
   ]
  },
  {
   "cell_type": "code",
   "execution_count": 25,
   "metadata": {},
   "outputs": [],
   "source": [
    "credit_scoring.loc[credit_scoring['children'] == 20, 'children'] = 2"
   ]
  },
  {
   "cell_type": "code",
   "execution_count": 26,
   "metadata": {},
   "outputs": [
    {
     "data": {
      "text/plain": [
       "0    14149\n",
       "1     4865\n",
       "2     2131\n",
       "3      330\n",
       "4       41\n",
       "5        9\n",
       "Name: children, dtype: int64"
      ]
     },
     "execution_count": 26,
     "metadata": {},
     "output_type": "execute_result"
    }
   ],
   "source": [
    "credit_scoring['children'].value_counts()"
   ]
  },
  {
   "cell_type": "markdown",
   "metadata": {},
   "source": [
    "### 2.2.2 days_employed<a class=\"anchor\" id=\"2.2.2\"></a>"
   ]
  },
  {
   "cell_type": "markdown",
   "metadata": {},
   "source": [
    "There are negative values for days employed, <br>\n",
    "we will consider it a typo and change it to positive."
   ]
  },
  {
   "cell_type": "code",
   "execution_count": 27,
   "metadata": {},
   "outputs": [],
   "source": [
    "credit_scoring['days_employed'] = credit_scoring['days_employed'].abs()"
   ]
  },
  {
   "cell_type": "markdown",
   "metadata": {},
   "source": [
    "missing values for days_employed"
   ]
  },
  {
   "cell_type": "code",
   "execution_count": 28,
   "metadata": {},
   "outputs": [
    {
     "data": {
      "text/plain": [
       "2174"
      ]
     },
     "execution_count": 28,
     "metadata": {},
     "output_type": "execute_result"
    }
   ],
   "source": [
    "credit_scoring[credit_scoring['days_employed'].isnull()]['children'].count()"
   ]
  },
  {
   "cell_type": "markdown",
   "metadata": {},
   "source": [
    "we will consider a missing value as a 0"
   ]
  },
  {
   "cell_type": "code",
   "execution_count": 29,
   "metadata": {},
   "outputs": [],
   "source": [
    "credit_scoring['days_employed'].fillna(0, inplace = True)"
   ]
  },
  {
   "cell_type": "code",
   "execution_count": null,
   "metadata": {},
   "outputs": [],
   "source": []
  },
  {
   "cell_type": "markdown",
   "metadata": {},
   "source": [
    "### 2.2.3 total_income.<a class=\"anchor\" id=\"2.2.3\"></a>"
   ]
  },
  {
   "cell_type": "code",
   "execution_count": null,
   "metadata": {},
   "outputs": [],
   "source": []
  },
  {
   "cell_type": "markdown",
   "metadata": {},
   "source": [
    "are there rows with missing value income ?"
   ]
  },
  {
   "cell_type": "code",
   "execution_count": 30,
   "metadata": {},
   "outputs": [
    {
     "data": {
      "text/plain": [
       "2174"
      ]
     },
     "execution_count": 30,
     "metadata": {},
     "output_type": "execute_result"
    }
   ],
   "source": [
    "credit_scoring[credit_scoring['total_income'].isnull()]['children'].count()"
   ]
  },
  {
   "cell_type": "markdown",
   "metadata": {},
   "source": [
    "we will consider a missing value as a 0"
   ]
  },
  {
   "cell_type": "code",
   "execution_count": 31,
   "metadata": {},
   "outputs": [],
   "source": [
    "credit_scoring['total_income'].fillna(0, inplace = True)"
   ]
  },
  {
   "cell_type": "markdown",
   "metadata": {},
   "source": [
    "Data type replacement."
   ]
  },
  {
   "cell_type": "code",
   "execution_count": 32,
   "metadata": {},
   "outputs": [],
   "source": [
    "credit_scoring['total_income'] = credit_scoring['total_income'].astype('int')"
   ]
  },
  {
   "cell_type": "markdown",
   "metadata": {},
   "source": [
    "### 2.2.4 age.<a class=\"anchor\" id=\"2.2.4\"></a>"
   ]
  },
  {
   "cell_type": "markdown",
   "metadata": {},
   "source": [
    "the min value for age is 0. <br>\n",
    "how many rows have this value ?"
   ]
  },
  {
   "cell_type": "code",
   "execution_count": 33,
   "metadata": {},
   "outputs": [
    {
     "data": {
      "text/plain": [
       "101"
      ]
     },
     "execution_count": 33,
     "metadata": {},
     "output_type": "execute_result"
    }
   ],
   "source": [
    "credit_scoring[credit_scoring['age'] == 0]['children'].count()"
   ]
  },
  {
   "cell_type": "markdown",
   "metadata": {},
   "source": [
    "For those rows with a value of 0 for age, <br>\n",
    "we will use their days of employment as a base line,<br>\n",
    "and we will add to that number 18 years."
   ]
  },
  {
   "cell_type": "code",
   "execution_count": null,
   "metadata": {},
   "outputs": [],
   "source": []
  },
  {
   "cell_type": "markdown",
   "metadata": {},
   "source": [
    "calculate days_employed by years"
   ]
  },
  {
   "cell_type": "code",
   "execution_count": null,
   "metadata": {},
   "outputs": [],
   "source": []
  },
  {
   "cell_type": "code",
   "execution_count": 34,
   "metadata": {},
   "outputs": [],
   "source": [
    "credit_scoring['days_employed_years'] = credit_scoring['days_employed'].apply(days_employed_years)"
   ]
  },
  {
   "cell_type": "code",
   "execution_count": 35,
   "metadata": {},
   "outputs": [],
   "source": [
    "credit_scoring['age'] = credit_scoring.apply(update_age_by_days_employed_years, axis = 1)"
   ]
  },
  {
   "cell_type": "markdown",
   "metadata": {},
   "source": [
    "lets look at the distribution of age:"
   ]
  },
  {
   "cell_type": "code",
   "execution_count": 36,
   "metadata": {},
   "outputs": [
    {
     "data": {
      "image/png": "[encoded data removed]",
      "text/plain": [
       "<Figure size 1080x360 with 1 Axes>"
      ]
     },
     "metadata": {
      "needs_background": "light"
     },
     "output_type": "display_data"
    }
   ],
   "source": [
    "histogram(credit_scoring,'age', 'Distribution of age', 'age', 'amount')"
   ]
  },
  {
   "cell_type": "markdown",
   "metadata": {},
   "source": [
    "lets look at rows with age above 120:"
   ]
  },
  {
   "cell_type": "code",
   "execution_count": 37,
   "metadata": {},
   "outputs": [
    {
     "data": {
      "text/plain": [
       "99       967\n",
       "578     1108\n",
       "1175    1034\n",
       "1898    1032\n",
       "4922     939\n",
       "Name: age, dtype: int64"
      ]
     },
     "execution_count": 37,
     "metadata": {},
     "output_type": "execute_result"
    }
   ],
   "source": [
    "credit_scoring[credit_scoring['age'] > 120]['age'].head()"
   ]
  },
  {
   "cell_type": "code",
   "execution_count": 38,
   "metadata": {},
   "outputs": [
    {
     "data": {
      "text/plain": [
       "17"
      ]
     },
     "execution_count": 38,
     "metadata": {},
     "output_type": "execute_result"
    }
   ],
   "source": [
    "credit_scoring[credit_scoring['age'] > 120]['children'].count()"
   ]
  },
  {
   "cell_type": "markdown",
   "metadata": {},
   "source": [
    "Conclusions: <br>\n",
    "There are 17 rows with an age greater then 120.<br>\n",
    "all of the rows with age greater then 120 have an income_type of retiree .<br>\n",
    "so we will conclude that the age is a typo.<br>\n",
    "So we will change the age for all of them to 67, <br>\n",
    "and will also change days_employed_years to 49 and days_employed to 17885 .\n"
   ]
  },
  {
   "cell_type": "code",
   "execution_count": null,
   "metadata": {},
   "outputs": [],
   "source": []
  },
  {
   "cell_type": "code",
   "execution_count": 39,
   "metadata": {},
   "outputs": [],
   "source": [
    "credit_scoring['flag_retiree'] = credit_scoring.apply(update_flag_retiree, axis = 1)"
   ]
  },
  {
   "cell_type": "code",
   "execution_count": null,
   "metadata": {},
   "outputs": [],
   "source": []
  },
  {
   "cell_type": "code",
   "execution_count": 40,
   "metadata": {},
   "outputs": [],
   "source": [
    "credit_scoring['age'] = credit_scoring.apply(update_age_retiree, axis = 1)"
   ]
  },
  {
   "cell_type": "code",
   "execution_count": null,
   "metadata": {},
   "outputs": [],
   "source": []
  },
  {
   "cell_type": "code",
   "execution_count": 41,
   "metadata": {},
   "outputs": [],
   "source": [
    "credit_scoring['days_employed_years'] = credit_scoring.apply(update_days_employed_years_retiree, axis = 1)"
   ]
  },
  {
   "cell_type": "code",
   "execution_count": null,
   "metadata": {},
   "outputs": [],
   "source": []
  },
  {
   "cell_type": "code",
   "execution_count": 42,
   "metadata": {},
   "outputs": [],
   "source": [
    "credit_scoring['days_employed'] = credit_scoring.apply(update_days_employed_retiree, axis = 1)"
   ]
  },
  {
   "cell_type": "markdown",
   "metadata": {},
   "source": [
    "lets look again at the distribution of age:"
   ]
  },
  {
   "cell_type": "code",
   "execution_count": 43,
   "metadata": {},
   "outputs": [
    {
     "data": {
      "image/png": "[encoded data removed]",
      "text/plain": [
       "<Figure size 1080x360 with 1 Axes>"
      ]
     },
     "metadata": {
      "needs_background": "light"
     },
     "output_type": "display_data"
    }
   ],
   "source": [
    "histogram(credit_scoring,'age', 'Distribution of age', 'age', 'amount')"
   ]
  },
  {
   "cell_type": "markdown",
   "metadata": {},
   "source": [
    "what is the min age ?"
   ]
  },
  {
   "cell_type": "code",
   "execution_count": 44,
   "metadata": {},
   "outputs": [
    {
     "data": {
      "text/plain": [
       "18"
      ]
     },
     "execution_count": 44,
     "metadata": {},
     "output_type": "execute_result"
    }
   ],
   "source": [
    "credit_scoring['age'].min()"
   ]
  },
  {
   "cell_type": "code",
   "execution_count": null,
   "metadata": {},
   "outputs": [],
   "source": []
  },
  {
   "cell_type": "markdown",
   "metadata": {},
   "source": [
    "### 2.2.5 days_employed.<a class=\"anchor\" id=\"2.2.5\"></a>"
   ]
  },
  {
   "cell_type": "markdown",
   "metadata": {},
   "source": [
    "lets look at the distribution of days_employed_years:"
   ]
  },
  {
   "cell_type": "code",
   "execution_count": 45,
   "metadata": {},
   "outputs": [
    {
     "data": {
      "image/png": "[encoded data removed]",
      "text/plain": [
       "<Figure size 1080x360 with 1 Axes>"
      ]
     },
     "metadata": {
      "needs_background": "light"
     },
     "output_type": "display_data"
    }
   ],
   "source": [
    "histogram(credit_scoring,'days_employed_years', 'Distribution of days_employed_years', 'years', 'amount')"
   ]
  },
  {
   "cell_type": "markdown",
   "metadata": {},
   "source": [
    "lets look at rows with days_employed_years above 100:"
   ]
  },
  {
   "cell_type": "code",
   "execution_count": 46,
   "metadata": {},
   "outputs": [
    {
     "data": {
      "text/html": [
       "<div>\n",
       "<style scoped>\n",
       "    .dataframe tbody tr th:only-of-type {\n",
       "        vertical-align: middle;\n",
       "    }\n",
       "\n",
       "    .dataframe tbody tr th {\n",
       "        vertical-align: top;\n",
       "    }\n",
       "\n",
       "    .dataframe thead th {\n",
       "        text-align: right;\n",
       "    }\n",
       "</style>\n",
       "<table border=\"1\" class=\"dataframe\">\n",
       "  <thead>\n",
       "    <tr style=\"text-align: right;\">\n",
       "      <th></th>\n",
       "      <th>days_employed</th>\n",
       "      <th>age</th>\n",
       "      <th>days_employed_years</th>\n",
       "    </tr>\n",
       "  </thead>\n",
       "  <tbody>\n",
       "    <tr>\n",
       "      <th>4</th>\n",
       "      <td>340,266.07</td>\n",
       "      <td>53</td>\n",
       "      <td>932</td>\n",
       "    </tr>\n",
       "    <tr>\n",
       "      <th>18</th>\n",
       "      <td>400,281.14</td>\n",
       "      <td>53</td>\n",
       "      <td>1096</td>\n",
       "    </tr>\n",
       "    <tr>\n",
       "      <th>24</th>\n",
       "      <td>338,551.95</td>\n",
       "      <td>57</td>\n",
       "      <td>927</td>\n",
       "    </tr>\n",
       "    <tr>\n",
       "      <th>25</th>\n",
       "      <td>363,548.49</td>\n",
       "      <td>67</td>\n",
       "      <td>996</td>\n",
       "    </tr>\n",
       "    <tr>\n",
       "      <th>30</th>\n",
       "      <td>335,581.67</td>\n",
       "      <td>62</td>\n",
       "      <td>919</td>\n",
       "    </tr>\n",
       "  </tbody>\n",
       "</table>\n",
       "</div>"
      ],
      "text/plain": [
       "    days_employed  age  days_employed_years\n",
       "4      340,266.07   53                  932\n",
       "18     400,281.14   53                 1096\n",
       "24     338,551.95   57                  927\n",
       "25     363,548.49   67                  996\n",
       "30     335,581.67   62                  919"
      ]
     },
     "execution_count": 46,
     "metadata": {},
     "output_type": "execute_result"
    }
   ],
   "source": [
    "credit_scoring[credit_scoring['days_employed_years'] > 100][['days_employed', 'age', 'days_employed_years']].head()"
   ]
  },
  {
   "cell_type": "code",
   "execution_count": 47,
   "metadata": {},
   "outputs": [
    {
     "data": {
      "text/plain": [
       "3428"
      ]
     },
     "execution_count": 47,
     "metadata": {},
     "output_type": "execute_result"
    }
   ],
   "source": [
    "credit_scoring[credit_scoring['days_employed_years'] > 100]['children'].count()"
   ]
  },
  {
   "cell_type": "markdown",
   "metadata": {},
   "source": [
    "Conclusions: <br>\n",
    "There are 3428 rows with a value of more than 100 years of employment.<br>\n",
    "We will calculate those values to (age - 18).<br>\n",
    "Accordingly, we will also change the value for days_employed.\n"
   ]
  },
  {
   "cell_type": "code",
   "execution_count": null,
   "metadata": {},
   "outputs": [],
   "source": []
  },
  {
   "cell_type": "code",
   "execution_count": 48,
   "metadata": {},
   "outputs": [],
   "source": [
    "credit_scoring['days_employed'] = credit_scoring.apply(update_days_employed_by_age, axis = 1)"
   ]
  },
  {
   "cell_type": "code",
   "execution_count": null,
   "metadata": {},
   "outputs": [],
   "source": []
  },
  {
   "cell_type": "code",
   "execution_count": 49,
   "metadata": {},
   "outputs": [],
   "source": [
    "credit_scoring['days_employed_years'] = credit_scoring.apply(update_days_employed_years_by_age, axis = 1)"
   ]
  },
  {
   "cell_type": "markdown",
   "metadata": {},
   "source": [
    "Data type replacement"
   ]
  },
  {
   "cell_type": "code",
   "execution_count": 50,
   "metadata": {},
   "outputs": [],
   "source": [
    "credit_scoring['days_employed'] = credit_scoring['days_employed'].astype('int')"
   ]
  },
  {
   "cell_type": "markdown",
   "metadata": {},
   "source": [
    "### 2.2.6 education.<a class=\"anchor\" id=\"2.2.6\"></a>"
   ]
  },
  {
   "cell_type": "markdown",
   "metadata": {},
   "source": [
    "lets look at all the values for education"
   ]
  },
  {
   "cell_type": "code",
   "execution_count": 51,
   "metadata": {},
   "outputs": [
    {
     "data": {
      "text/plain": [
       "array([\"bachelor's degree\", 'secondary education', 'Secondary Education',\n",
       "       'SECONDARY EDUCATION', \"BACHELOR'S DEGREE\", 'some college',\n",
       "       'primary education', \"Bachelor's Degree\", 'SOME COLLEGE',\n",
       "       'Some College', 'PRIMARY EDUCATION', 'Primary Education',\n",
       "       'Graduate Degree', 'GRADUATE DEGREE', 'graduate degree'],\n",
       "      dtype=object)"
      ]
     },
     "execution_count": 51,
     "metadata": {},
     "output_type": "execute_result"
    }
   ],
   "source": [
    "credit_scoring['education'].unique()"
   ]
  },
  {
   "cell_type": "markdown",
   "metadata": {},
   "source": [
    "there are many duplicates in values. <br>\n",
    "lets lower the case"
   ]
  },
  {
   "cell_type": "code",
   "execution_count": 52,
   "metadata": {},
   "outputs": [],
   "source": [
    "credit_scoring['education'] = credit_scoring['education'].str.lower()"
   ]
  },
  {
   "cell_type": "code",
   "execution_count": 53,
   "metadata": {},
   "outputs": [
    {
     "data": {
      "text/plain": [
       "array([\"bachelor's degree\", 'secondary education', 'some college',\n",
       "       'primary education', 'graduate degree'], dtype=object)"
      ]
     },
     "execution_count": 53,
     "metadata": {},
     "output_type": "execute_result"
    }
   ],
   "source": [
    "credit_scoring['education'].unique()"
   ]
  },
  {
   "cell_type": "code",
   "execution_count": null,
   "metadata": {},
   "outputs": [],
   "source": []
  },
  {
   "cell_type": "markdown",
   "metadata": {},
   "source": [
    "### 2.2.7 purpose.<a class=\"anchor\" id=\"2.2.7\"></a>"
   ]
  },
  {
   "cell_type": "markdown",
   "metadata": {},
   "source": [
    "lets look at all the values for purpose"
   ]
  },
  {
   "cell_type": "code",
   "execution_count": 54,
   "metadata": {},
   "outputs": [
    {
     "data": {
      "text/plain": [
       "wedding ceremony                            797\n",
       "having a wedding                            777\n",
       "to have a wedding                           774\n",
       "real estate transactions                    676\n",
       "buy commercial real estate                  664\n",
       "buying property for renting out             653\n",
       "housing transactions                        653\n",
       "transactions with commercial real estate    651\n",
       "housing                                     647\n",
       "purchase of the house                       647\n",
       "purchase of the house for my family         641\n",
       "construction of own property                635\n",
       "property                                    634\n",
       "transactions with my real estate            630\n",
       "building a real estate                      626\n",
       "buy real estate                             624\n",
       "building a property                         620\n",
       "purchase of my own house                    620\n",
       "housing renovation                          612\n",
       "buy residential real estate                 607\n",
       "buying my own car                           505\n",
       "going to university                         496\n",
       "car                                         495\n",
       "second-hand car purchase                    489\n",
       "to own a car                                480\n",
       "buying a second-hand car                    479\n",
       "cars                                        478\n",
       "to buy a car                                472\n",
       "supplementary education                     462\n",
       "car purchase                                462\n",
       "purchase of a car                           455\n",
       "university education                        453\n",
       "to get a supplementary education            447\n",
       "education                                   447\n",
       "getting an education                        443\n",
       "profile education                           436\n",
       "getting higher education                    426\n",
       "to become educated                          412\n",
       "Name: purpose, dtype: int64"
      ]
     },
     "execution_count": 54,
     "metadata": {},
     "output_type": "execute_result"
    }
   ],
   "source": [
    "credit_scoring['purpose'].value_counts()"
   ]
  },
  {
   "cell_type": "markdown",
   "metadata": {},
   "source": [
    "There are many different categories. <br>\n",
    "I will use Stemming to reduce them into four categories:<br>\n",
    "real estate    <br>\n",
    "car             <br>\n",
    "education       <br>\n",
    "wedding         \n"
   ]
  },
  {
   "cell_type": "code",
   "execution_count": null,
   "metadata": {},
   "outputs": [],
   "source": []
  },
  {
   "cell_type": "code",
   "execution_count": 55,
   "metadata": {},
   "outputs": [],
   "source": [
    "credit_scoring['steam'] = 'None'"
   ]
  },
  {
   "cell_type": "code",
   "execution_count": null,
   "metadata": {},
   "outputs": [],
   "source": []
  },
  {
   "cell_type": "code",
   "execution_count": 56,
   "metadata": {},
   "outputs": [],
   "source": [
    "credit_scoring['steam'] = credit_scoring.apply(find_words, axis = 1)"
   ]
  },
  {
   "cell_type": "code",
   "execution_count": 57,
   "metadata": {},
   "outputs": [
    {
     "data": {
      "text/plain": [
       "real estate    10840\n",
       "car             4315\n",
       "education       4022\n",
       "wedding         2348\n",
       "Name: steam, dtype: int64"
      ]
     },
     "execution_count": 57,
     "metadata": {},
     "output_type": "execute_result"
    }
   ],
   "source": [
    "credit_scoring['steam'].value_counts()"
   ]
  },
  {
   "cell_type": "code",
   "execution_count": null,
   "metadata": {},
   "outputs": [],
   "source": []
  },
  {
   "cell_type": "markdown",
   "metadata": {},
   "source": [
    "### 2.8 Drop added columns.<a class=\"anchor\" id=\"2.8\"></a>"
   ]
  },
  {
   "cell_type": "code",
   "execution_count": 58,
   "metadata": {},
   "outputs": [],
   "source": [
    "credit_scoring.drop('flag_retiree', inplace = True, axis = 1)"
   ]
  },
  {
   "cell_type": "code",
   "execution_count": null,
   "metadata": {},
   "outputs": [],
   "source": []
  },
  {
   "cell_type": "markdown",
   "metadata": {},
   "source": [
    "### 2.9 Are there any duplicated values?<a class=\"anchor\" id=\"2.9\"></a>"
   ]
  },
  {
   "cell_type": "code",
   "execution_count": 59,
   "metadata": {},
   "outputs": [
    {
     "data": {
      "text/html": [
       "<div>\n",
       "<style scoped>\n",
       "    .dataframe tbody tr th:only-of-type {\n",
       "        vertical-align: middle;\n",
       "    }\n",
       "\n",
       "    .dataframe tbody tr th {\n",
       "        vertical-align: top;\n",
       "    }\n",
       "\n",
       "    .dataframe thead th {\n",
       "        text-align: right;\n",
       "    }\n",
       "</style>\n",
       "<table border=\"1\" class=\"dataframe\">\n",
       "  <thead>\n",
       "    <tr style=\"text-align: right;\">\n",
       "      <th></th>\n",
       "      <th>children</th>\n",
       "      <th>days_employed</th>\n",
       "      <th>age</th>\n",
       "      <th>education</th>\n",
       "      <th>education_id</th>\n",
       "      <th>family_status</th>\n",
       "      <th>family_status_id</th>\n",
       "      <th>gender</th>\n",
       "      <th>income_type</th>\n",
       "      <th>debt</th>\n",
       "      <th>total_income</th>\n",
       "      <th>purpose</th>\n",
       "      <th>days_employed_years</th>\n",
       "      <th>steam</th>\n",
       "    </tr>\n",
       "  </thead>\n",
       "  <tbody>\n",
       "    <tr>\n",
       "      <th>2849</th>\n",
       "      <td>0</td>\n",
       "      <td>0</td>\n",
       "      <td>41</td>\n",
       "      <td>secondary education</td>\n",
       "      <td>1</td>\n",
       "      <td>married</td>\n",
       "      <td>0</td>\n",
       "      <td>F</td>\n",
       "      <td>employee</td>\n",
       "      <td>0</td>\n",
       "      <td>0</td>\n",
       "      <td>purchase of the house for my family</td>\n",
       "      <td>0</td>\n",
       "      <td>real estate</td>\n",
       "    </tr>\n",
       "    <tr>\n",
       "      <th>3290</th>\n",
       "      <td>0</td>\n",
       "      <td>0</td>\n",
       "      <td>58</td>\n",
       "      <td>secondary education</td>\n",
       "      <td>1</td>\n",
       "      <td>civil partnership</td>\n",
       "      <td>1</td>\n",
       "      <td>F</td>\n",
       "      <td>retiree</td>\n",
       "      <td>0</td>\n",
       "      <td>0</td>\n",
       "      <td>to have a wedding</td>\n",
       "      <td>0</td>\n",
       "      <td>wedding</td>\n",
       "    </tr>\n",
       "    <tr>\n",
       "      <th>4182</th>\n",
       "      <td>1</td>\n",
       "      <td>0</td>\n",
       "      <td>34</td>\n",
       "      <td>bachelor's degree</td>\n",
       "      <td>0</td>\n",
       "      <td>civil partnership</td>\n",
       "      <td>1</td>\n",
       "      <td>F</td>\n",
       "      <td>employee</td>\n",
       "      <td>0</td>\n",
       "      <td>0</td>\n",
       "      <td>wedding ceremony</td>\n",
       "      <td>0</td>\n",
       "      <td>wedding</td>\n",
       "    </tr>\n",
       "    <tr>\n",
       "      <th>4851</th>\n",
       "      <td>0</td>\n",
       "      <td>0</td>\n",
       "      <td>60</td>\n",
       "      <td>secondary education</td>\n",
       "      <td>1</td>\n",
       "      <td>civil partnership</td>\n",
       "      <td>1</td>\n",
       "      <td>F</td>\n",
       "      <td>retiree</td>\n",
       "      <td>0</td>\n",
       "      <td>0</td>\n",
       "      <td>wedding ceremony</td>\n",
       "      <td>0</td>\n",
       "      <td>wedding</td>\n",
       "    </tr>\n",
       "    <tr>\n",
       "      <th>5557</th>\n",
       "      <td>0</td>\n",
       "      <td>0</td>\n",
       "      <td>58</td>\n",
       "      <td>secondary education</td>\n",
       "      <td>1</td>\n",
       "      <td>civil partnership</td>\n",
       "      <td>1</td>\n",
       "      <td>F</td>\n",
       "      <td>retiree</td>\n",
       "      <td>0</td>\n",
       "      <td>0</td>\n",
       "      <td>to have a wedding</td>\n",
       "      <td>0</td>\n",
       "      <td>wedding</td>\n",
       "    </tr>\n",
       "  </tbody>\n",
       "</table>\n",
       "</div>"
      ],
      "text/plain": [
       "      children  days_employed  age            education  education_id  \\\n",
       "2849         0              0   41  secondary education             1   \n",
       "3290         0              0   58  secondary education             1   \n",
       "4182         1              0   34    bachelor's degree             0   \n",
       "4851         0              0   60  secondary education             1   \n",
       "5557         0              0   58  secondary education             1   \n",
       "\n",
       "          family_status  family_status_id gender income_type  debt  \\\n",
       "2849            married                 0      F    employee     0   \n",
       "3290  civil partnership                 1      F     retiree     0   \n",
       "4182  civil partnership                 1      F    employee     0   \n",
       "4851  civil partnership                 1      F     retiree     0   \n",
       "5557  civil partnership                 1      F     retiree     0   \n",
       "\n",
       "      total_income                              purpose  days_employed_years  \\\n",
       "2849             0  purchase of the house for my family                    0   \n",
       "3290             0                    to have a wedding                    0   \n",
       "4182             0                     wedding ceremony                    0   \n",
       "4851             0                     wedding ceremony                    0   \n",
       "5557             0                    to have a wedding                    0   \n",
       "\n",
       "            steam  \n",
       "2849  real estate  \n",
       "3290      wedding  \n",
       "4182      wedding  \n",
       "4851      wedding  \n",
       "5557      wedding  "
      ]
     },
     "execution_count": 59,
     "metadata": {},
     "output_type": "execute_result"
    }
   ],
   "source": [
    "credit_scoring[credit_scoring.duplicated()].head()"
   ]
  },
  {
   "cell_type": "code",
   "execution_count": 60,
   "metadata": {},
   "outputs": [
    {
     "data": {
      "text/plain": [
       "71"
      ]
     },
     "execution_count": 60,
     "metadata": {},
     "output_type": "execute_result"
    }
   ],
   "source": [
    "credit_scoring[credit_scoring.duplicated()]['children'].count()"
   ]
  },
  {
   "cell_type": "markdown",
   "metadata": {},
   "source": [
    "Check the distribution of different values at the columns"
   ]
  },
  {
   "cell_type": "code",
   "execution_count": 61,
   "metadata": {},
   "outputs": [
    {
     "name": "stdout",
     "output_type": "stream",
     "text": [
      "children : 3\n",
      "days_employed : 1\n",
      "age : 34\n",
      "education : 2\n",
      "education_id : 2\n",
      "family_status : 4\n",
      "family_status_id : 4\n",
      "gender : 2\n",
      "income_type : 4\n",
      "debt : 1\n",
      "total_income : 1\n",
      "purpose : 29\n",
      "days_employed_years : 1\n",
      "steam : 4\n"
     ]
    }
   ],
   "source": [
    "for i in credit_scoring[credit_scoring.duplicated()].columns:\n",
    "    print(i, ':', credit_scoring[credit_scoring.duplicated()][i].nunique())"
   ]
  },
  {
   "cell_type": "markdown",
   "metadata": {},
   "source": [
    "Conclusions: <br>\n",
    "We can see that days_employed , total_income <br>\n",
    " Have only 1 value. And it is 0.<br>\n",
    "These rows will be deleted, and this information needs to get to the developers\n"
   ]
  },
  {
   "cell_type": "code",
   "execution_count": null,
   "metadata": {},
   "outputs": [],
   "source": []
  },
  {
   "cell_type": "markdown",
   "metadata": {},
   "source": [
    "drop duplicates"
   ]
  },
  {
   "cell_type": "code",
   "execution_count": 62,
   "metadata": {},
   "outputs": [],
   "source": [
    "credit_scoring = credit_scoring.drop_duplicates()"
   ]
  },
  {
   "cell_type": "code",
   "execution_count": null,
   "metadata": {},
   "outputs": [],
   "source": []
  },
  {
   "cell_type": "code",
   "execution_count": 63,
   "metadata": {},
   "outputs": [
    {
     "data": {
      "text/plain": [
       "(21454, 14)"
      ]
     },
     "execution_count": 63,
     "metadata": {},
     "output_type": "execute_result"
    }
   ],
   "source": [
    "credit_scoring.shape"
   ]
  },
  {
   "cell_type": "code",
   "execution_count": null,
   "metadata": {},
   "outputs": [],
   "source": []
  },
  {
   "cell_type": "code",
   "execution_count": 64,
   "metadata": {},
   "outputs": [
    {
     "name": "stdout",
     "output_type": "stream",
     "text": [
      "<class 'pandas.core.frame.DataFrame'>\n",
      "Int64Index: 21454 entries, 0 to 21524\n",
      "Data columns (total 14 columns):\n",
      " #   Column               Non-Null Count  Dtype \n",
      "---  ------               --------------  ----- \n",
      " 0   children             21454 non-null  int64 \n",
      " 1   days_employed        21454 non-null  int32 \n",
      " 2   age                  21454 non-null  int64 \n",
      " 3   education            21454 non-null  object\n",
      " 4   education_id         21454 non-null  int64 \n",
      " 5   family_status        21454 non-null  object\n",
      " 6   family_status_id     21454 non-null  int64 \n",
      " 7   gender               21454 non-null  object\n",
      " 8   income_type          21454 non-null  object\n",
      " 9   debt                 21454 non-null  int64 \n",
      " 10  total_income         21454 non-null  int32 \n",
      " 11  purpose              21454 non-null  object\n",
      " 12  days_employed_years  21454 non-null  int64 \n",
      " 13  steam                21454 non-null  object\n",
      "dtypes: int32(2), int64(6), object(6)\n",
      "memory usage: 2.3+ MB\n"
     ]
    }
   ],
   "source": [
    "credit_scoring.info()"
   ]
  },
  {
   "cell_type": "markdown",
   "metadata": {},
   "source": [
    "Conclusions: <br>\n",
    "Initially there were 21525 rows.<br>\n",
    "After preprocessing there are now 21454 rows.<br>\n",
    "We have lost less then 1% of the data."
   ]
  },
  {
   "cell_type": "code",
   "execution_count": null,
   "metadata": {},
   "outputs": [],
   "source": []
  },
  {
   "cell_type": "markdown",
   "metadata": {},
   "source": [
    "### Step 3. Answer these questions:<a class=\"anchor\" id=\"3\"></a>"
   ]
  },
  {
   "cell_type": "code",
   "execution_count": null,
   "metadata": {},
   "outputs": [],
   "source": []
  },
  {
   "cell_type": "markdown",
   "metadata": {},
   "source": [
    "### 3.1 Is there a connection between having kids and repaying a loan on time?<a class=\"anchor\" id=\"3.1\"></a>"
   ]
  },
  {
   "cell_type": "code",
   "execution_count": 65,
   "metadata": {},
   "outputs": [
    {
     "data": {
      "text/html": [
       "<div>\n",
       "<style scoped>\n",
       "    .dataframe tbody tr th:only-of-type {\n",
       "        vertical-align: middle;\n",
       "    }\n",
       "\n",
       "    .dataframe tbody tr th {\n",
       "        vertical-align: top;\n",
       "    }\n",
       "\n",
       "    .dataframe thead th {\n",
       "        text-align: right;\n",
       "    }\n",
       "</style>\n",
       "<table border=\"1\" class=\"dataframe\">\n",
       "  <thead>\n",
       "    <tr style=\"text-align: right;\">\n",
       "      <th>children</th>\n",
       "      <th>0</th>\n",
       "      <th>1</th>\n",
       "      <th>2</th>\n",
       "      <th>3</th>\n",
       "      <th>4</th>\n",
       "      <th>5</th>\n",
       "    </tr>\n",
       "    <tr>\n",
       "      <th>debt</th>\n",
       "      <th></th>\n",
       "      <th></th>\n",
       "      <th></th>\n",
       "      <th></th>\n",
       "      <th></th>\n",
       "      <th></th>\n",
       "    </tr>\n",
       "  </thead>\n",
       "  <tbody>\n",
       "    <tr>\n",
       "      <th>0</th>\n",
       "      <td>13,028.00</td>\n",
       "      <td>4,410.00</td>\n",
       "      <td>1,926.00</td>\n",
       "      <td>303.00</td>\n",
       "      <td>37.00</td>\n",
       "      <td>9.00</td>\n",
       "    </tr>\n",
       "    <tr>\n",
       "      <th>1</th>\n",
       "      <td>1,063.00</td>\n",
       "      <td>445.00</td>\n",
       "      <td>202.00</td>\n",
       "      <td>27.00</td>\n",
       "      <td>4.00</td>\n",
       "      <td>0.00</td>\n",
       "    </tr>\n",
       "  </tbody>\n",
       "</table>\n",
       "</div>"
      ],
      "text/plain": [
       "children         0        1        2      3     4    5\n",
       "debt                                                  \n",
       "0        13,028.00 4,410.00 1,926.00 303.00 37.00 9.00\n",
       "1         1,063.00   445.00   202.00  27.00  4.00 0.00"
      ]
     },
     "execution_count": 65,
     "metadata": {},
     "output_type": "execute_result"
    }
   ],
   "source": [
    "debt = credit_scoring.pivot_table(index = 'debt', values = 'days_employed', columns = 'children', aggfunc = 'count').fillna(0)\n",
    "debt"
   ]
  },
  {
   "cell_type": "code",
   "execution_count": 66,
   "metadata": {},
   "outputs": [
    {
     "data": {
      "text/html": [
       "<div>\n",
       "<style scoped>\n",
       "    .dataframe tbody tr th:only-of-type {\n",
       "        vertical-align: middle;\n",
       "    }\n",
       "\n",
       "    .dataframe tbody tr th {\n",
       "        vertical-align: top;\n",
       "    }\n",
       "\n",
       "    .dataframe thead th {\n",
       "        text-align: right;\n",
       "    }\n",
       "</style>\n",
       "<table border=\"1\" class=\"dataframe\">\n",
       "  <thead>\n",
       "    <tr style=\"text-align: right;\">\n",
       "      <th>debt</th>\n",
       "      <th>0</th>\n",
       "      <th>1</th>\n",
       "    </tr>\n",
       "    <tr>\n",
       "      <th>children</th>\n",
       "      <th></th>\n",
       "      <th></th>\n",
       "    </tr>\n",
       "  </thead>\n",
       "  <tbody>\n",
       "    <tr>\n",
       "      <th>0</th>\n",
       "      <td>13,028.00</td>\n",
       "      <td>1,063.00</td>\n",
       "    </tr>\n",
       "    <tr>\n",
       "      <th>1</th>\n",
       "      <td>4,410.00</td>\n",
       "      <td>445.00</td>\n",
       "    </tr>\n",
       "    <tr>\n",
       "      <th>2</th>\n",
       "      <td>1,926.00</td>\n",
       "      <td>202.00</td>\n",
       "    </tr>\n",
       "    <tr>\n",
       "      <th>3</th>\n",
       "      <td>303.00</td>\n",
       "      <td>27.00</td>\n",
       "    </tr>\n",
       "    <tr>\n",
       "      <th>4</th>\n",
       "      <td>37.00</td>\n",
       "      <td>4.00</td>\n",
       "    </tr>\n",
       "    <tr>\n",
       "      <th>5</th>\n",
       "      <td>9.00</td>\n",
       "      <td>0.00</td>\n",
       "    </tr>\n",
       "  </tbody>\n",
       "</table>\n",
       "</div>"
      ],
      "text/plain": [
       "debt             0        1\n",
       "children                   \n",
       "0        13,028.00 1,063.00\n",
       "1         4,410.00   445.00\n",
       "2         1,926.00   202.00\n",
       "3           303.00    27.00\n",
       "4            37.00     4.00\n",
       "5             9.00     0.00"
      ]
     },
     "execution_count": 66,
     "metadata": {},
     "output_type": "execute_result"
    }
   ],
   "source": [
    "debt_t = debt.T\n",
    "debt_t"
   ]
  },
  {
   "cell_type": "code",
   "execution_count": null,
   "metadata": {},
   "outputs": [],
   "source": []
  },
  {
   "cell_type": "code",
   "execution_count": 67,
   "metadata": {},
   "outputs": [
    {
     "data": {
      "text/html": [
       "<div>\n",
       "<style scoped>\n",
       "    .dataframe tbody tr th:only-of-type {\n",
       "        vertical-align: middle;\n",
       "    }\n",
       "\n",
       "    .dataframe tbody tr th {\n",
       "        vertical-align: top;\n",
       "    }\n",
       "\n",
       "    .dataframe thead th {\n",
       "        text-align: right;\n",
       "    }\n",
       "</style>\n",
       "<table border=\"1\" class=\"dataframe\">\n",
       "  <thead>\n",
       "    <tr style=\"text-align: right;\">\n",
       "      <th>debt</th>\n",
       "      <th>0</th>\n",
       "      <th>1</th>\n",
       "      <th>percent</th>\n",
       "    </tr>\n",
       "    <tr>\n",
       "      <th>children</th>\n",
       "      <th></th>\n",
       "      <th></th>\n",
       "      <th></th>\n",
       "    </tr>\n",
       "  </thead>\n",
       "  <tbody>\n",
       "    <tr>\n",
       "      <th>0</th>\n",
       "      <td>13,028.00</td>\n",
       "      <td>1,063.00</td>\n",
       "      <td>7.54</td>\n",
       "    </tr>\n",
       "    <tr>\n",
       "      <th>1</th>\n",
       "      <td>4,410.00</td>\n",
       "      <td>445.00</td>\n",
       "      <td>9.17</td>\n",
       "    </tr>\n",
       "    <tr>\n",
       "      <th>2</th>\n",
       "      <td>1,926.00</td>\n",
       "      <td>202.00</td>\n",
       "      <td>9.49</td>\n",
       "    </tr>\n",
       "    <tr>\n",
       "      <th>3</th>\n",
       "      <td>303.00</td>\n",
       "      <td>27.00</td>\n",
       "      <td>8.18</td>\n",
       "    </tr>\n",
       "    <tr>\n",
       "      <th>4</th>\n",
       "      <td>37.00</td>\n",
       "      <td>4.00</td>\n",
       "      <td>9.76</td>\n",
       "    </tr>\n",
       "    <tr>\n",
       "      <th>5</th>\n",
       "      <td>9.00</td>\n",
       "      <td>0.00</td>\n",
       "      <td>0.00</td>\n",
       "    </tr>\n",
       "  </tbody>\n",
       "</table>\n",
       "</div>"
      ],
      "text/plain": [
       "debt             0        1  percent\n",
       "children                            \n",
       "0        13,028.00 1,063.00     7.54\n",
       "1         4,410.00   445.00     9.17\n",
       "2         1,926.00   202.00     9.49\n",
       "3           303.00    27.00     8.18\n",
       "4            37.00     4.00     9.76\n",
       "5             9.00     0.00     0.00"
      ]
     },
     "execution_count": 67,
     "metadata": {},
     "output_type": "execute_result"
    }
   ],
   "source": [
    "debt_t['percent'] = debt_t.apply(calculate_debt_percent, axis = 1)\n",
    "debt_t"
   ]
  },
  {
   "cell_type": "markdown",
   "metadata": {},
   "source": [
    "lets look at the income for those with 5 children"
   ]
  },
  {
   "cell_type": "code",
   "execution_count": 68,
   "metadata": {},
   "outputs": [
    {
     "data": {
      "text/html": [
       "<div>\n",
       "<style scoped>\n",
       "    .dataframe tbody tr th:only-of-type {\n",
       "        vertical-align: middle;\n",
       "    }\n",
       "\n",
       "    .dataframe tbody tr th {\n",
       "        vertical-align: top;\n",
       "    }\n",
       "\n",
       "    .dataframe thead th {\n",
       "        text-align: right;\n",
       "    }\n",
       "</style>\n",
       "<table border=\"1\" class=\"dataframe\">\n",
       "  <thead>\n",
       "    <tr style=\"text-align: right;\">\n",
       "      <th></th>\n",
       "      <th>age</th>\n",
       "      <th>family_status</th>\n",
       "      <th>gender</th>\n",
       "      <th>total_income</th>\n",
       "    </tr>\n",
       "  </thead>\n",
       "  <tbody>\n",
       "    <tr>\n",
       "      <th>3979</th>\n",
       "      <td>42</td>\n",
       "      <td>civil partnership</td>\n",
       "      <td>M</td>\n",
       "      <td>0</td>\n",
       "    </tr>\n",
       "    <tr>\n",
       "      <th>4397</th>\n",
       "      <td>36</td>\n",
       "      <td>married</td>\n",
       "      <td>F</td>\n",
       "      <td>26953</td>\n",
       "    </tr>\n",
       "    <tr>\n",
       "      <th>7866</th>\n",
       "      <td>36</td>\n",
       "      <td>married</td>\n",
       "      <td>F</td>\n",
       "      <td>7803</td>\n",
       "    </tr>\n",
       "    <tr>\n",
       "      <th>15822</th>\n",
       "      <td>31</td>\n",
       "      <td>married</td>\n",
       "      <td>F</td>\n",
       "      <td>12408</td>\n",
       "    </tr>\n",
       "    <tr>\n",
       "      <th>15916</th>\n",
       "      <td>37</td>\n",
       "      <td>married</td>\n",
       "      <td>F</td>\n",
       "      <td>41071</td>\n",
       "    </tr>\n",
       "    <tr>\n",
       "      <th>16211</th>\n",
       "      <td>35</td>\n",
       "      <td>civil partnership</td>\n",
       "      <td>F</td>\n",
       "      <td>20176</td>\n",
       "    </tr>\n",
       "    <tr>\n",
       "      <th>20452</th>\n",
       "      <td>38</td>\n",
       "      <td>married</td>\n",
       "      <td>F</td>\n",
       "      <td>34007</td>\n",
       "    </tr>\n",
       "    <tr>\n",
       "      <th>20837</th>\n",
       "      <td>35</td>\n",
       "      <td>married</td>\n",
       "      <td>F</td>\n",
       "      <td>32678</td>\n",
       "    </tr>\n",
       "    <tr>\n",
       "      <th>21156</th>\n",
       "      <td>59</td>\n",
       "      <td>married</td>\n",
       "      <td>M</td>\n",
       "      <td>43050</td>\n",
       "    </tr>\n",
       "  </tbody>\n",
       "</table>\n",
       "</div>"
      ],
      "text/plain": [
       "       age      family_status gender  total_income\n",
       "3979    42  civil partnership      M             0\n",
       "4397    36            married      F         26953\n",
       "7866    36            married      F          7803\n",
       "15822   31            married      F         12408\n",
       "15916   37            married      F         41071\n",
       "16211   35  civil partnership      F         20176\n",
       "20452   38            married      F         34007\n",
       "20837   35            married      F         32678\n",
       "21156   59            married      M         43050"
      ]
     },
     "execution_count": 68,
     "metadata": {},
     "output_type": "execute_result"
    }
   ],
   "source": [
    "credit_scoring[credit_scoring['children'] == 5][['age', 'family_status', 'gender', 'total_income']]"
   ]
  },
  {
   "cell_type": "markdown",
   "metadata": {},
   "source": [
    "We can see that all of them are either married or in a civil partnership. <br>\n",
    "most of them are women with an income that is close to or above average. <br>\n",
    "There is no information regarding the income of the spouse."
   ]
  },
  {
   "cell_type": "code",
   "execution_count": null,
   "metadata": {},
   "outputs": [],
   "source": []
  },
  {
   "cell_type": "markdown",
   "metadata": {},
   "source": [
    "Conclusions: <br>\n",
    "From the clients without children about 7.5% have had debt. <br>\n",
    "From those with 1 about 9.1% <br>\n",
    "From those with 2 about 9.5% <br>\n",
    "From those with 3 about 8.2% <br>\n",
    "From those with 4 about 9.7% <br>\n",
    "From those with 5 none are in debt. <br>\n",
    "My conclusion is that yes, there is a relation between having kids <br>\n",
    "and repaying a loan on time. <br>\n",
    "With the exception of clients with 5 children, <br>\n",
    "which I assume their household total income is high, <br>\n",
    "once there are kids, the chance of failing to repay a loan is getting high.\n"
   ]
  },
  {
   "cell_type": "code",
   "execution_count": null,
   "metadata": {},
   "outputs": [],
   "source": []
  },
  {
   "cell_type": "markdown",
   "metadata": {},
   "source": [
    "### 3.2 Is there a connection between marital status and repaying a loan on time?<a class=\"anchor\" id=\"3.2\"></a>"
   ]
  },
  {
   "cell_type": "code",
   "execution_count": 69,
   "metadata": {},
   "outputs": [
    {
     "data": {
      "text/html": [
       "<div>\n",
       "<style scoped>\n",
       "    .dataframe tbody tr th:only-of-type {\n",
       "        vertical-align: middle;\n",
       "    }\n",
       "\n",
       "    .dataframe tbody tr th {\n",
       "        vertical-align: top;\n",
       "    }\n",
       "\n",
       "    .dataframe thead th {\n",
       "        text-align: right;\n",
       "    }\n",
       "</style>\n",
       "<table border=\"1\" class=\"dataframe\">\n",
       "  <thead>\n",
       "    <tr style=\"text-align: right;\">\n",
       "      <th>family_status</th>\n",
       "      <th>civil partnership</th>\n",
       "      <th>divorced</th>\n",
       "      <th>married</th>\n",
       "      <th>unmarried</th>\n",
       "      <th>widow / widower</th>\n",
       "    </tr>\n",
       "    <tr>\n",
       "      <th>debt</th>\n",
       "      <th></th>\n",
       "      <th></th>\n",
       "      <th></th>\n",
       "      <th></th>\n",
       "      <th></th>\n",
       "    </tr>\n",
       "  </thead>\n",
       "  <tbody>\n",
       "    <tr>\n",
       "      <th>0</th>\n",
       "      <td>3763</td>\n",
       "      <td>1110</td>\n",
       "      <td>11408</td>\n",
       "      <td>2536</td>\n",
       "      <td>896</td>\n",
       "    </tr>\n",
       "    <tr>\n",
       "      <th>1</th>\n",
       "      <td>388</td>\n",
       "      <td>85</td>\n",
       "      <td>931</td>\n",
       "      <td>274</td>\n",
       "      <td>63</td>\n",
       "    </tr>\n",
       "  </tbody>\n",
       "</table>\n",
       "</div>"
      ],
      "text/plain": [
       "family_status  civil partnership  divorced  married  unmarried  \\\n",
       "debt                                                             \n",
       "0                           3763      1110    11408       2536   \n",
       "1                            388        85      931        274   \n",
       "\n",
       "family_status  widow / widower  \n",
       "debt                            \n",
       "0                          896  \n",
       "1                           63  "
      ]
     },
     "execution_count": 69,
     "metadata": {},
     "output_type": "execute_result"
    }
   ],
   "source": [
    "status = credit_scoring.pivot_table(index = 'debt', values = 'days_employed', columns = 'family_status', aggfunc = 'count')\n",
    "status"
   ]
  },
  {
   "cell_type": "code",
   "execution_count": 70,
   "metadata": {},
   "outputs": [
    {
     "data": {
      "text/html": [
       "<div>\n",
       "<style scoped>\n",
       "    .dataframe tbody tr th:only-of-type {\n",
       "        vertical-align: middle;\n",
       "    }\n",
       "\n",
       "    .dataframe tbody tr th {\n",
       "        vertical-align: top;\n",
       "    }\n",
       "\n",
       "    .dataframe thead th {\n",
       "        text-align: right;\n",
       "    }\n",
       "</style>\n",
       "<table border=\"1\" class=\"dataframe\">\n",
       "  <thead>\n",
       "    <tr style=\"text-align: right;\">\n",
       "      <th>debt</th>\n",
       "      <th>0</th>\n",
       "      <th>1</th>\n",
       "    </tr>\n",
       "    <tr>\n",
       "      <th>family_status</th>\n",
       "      <th></th>\n",
       "      <th></th>\n",
       "    </tr>\n",
       "  </thead>\n",
       "  <tbody>\n",
       "    <tr>\n",
       "      <th>civil partnership</th>\n",
       "      <td>3763</td>\n",
       "      <td>388</td>\n",
       "    </tr>\n",
       "    <tr>\n",
       "      <th>divorced</th>\n",
       "      <td>1110</td>\n",
       "      <td>85</td>\n",
       "    </tr>\n",
       "    <tr>\n",
       "      <th>married</th>\n",
       "      <td>11408</td>\n",
       "      <td>931</td>\n",
       "    </tr>\n",
       "    <tr>\n",
       "      <th>unmarried</th>\n",
       "      <td>2536</td>\n",
       "      <td>274</td>\n",
       "    </tr>\n",
       "    <tr>\n",
       "      <th>widow / widower</th>\n",
       "      <td>896</td>\n",
       "      <td>63</td>\n",
       "    </tr>\n",
       "  </tbody>\n",
       "</table>\n",
       "</div>"
      ],
      "text/plain": [
       "debt                   0    1\n",
       "family_status                \n",
       "civil partnership   3763  388\n",
       "divorced            1110   85\n",
       "married            11408  931\n",
       "unmarried           2536  274\n",
       "widow / widower      896   63"
      ]
     },
     "execution_count": 70,
     "metadata": {},
     "output_type": "execute_result"
    }
   ],
   "source": [
    "status_t = status.T\n",
    "status_t"
   ]
  },
  {
   "cell_type": "code",
   "execution_count": 71,
   "metadata": {},
   "outputs": [
    {
     "data": {
      "text/html": [
       "<div>\n",
       "<style scoped>\n",
       "    .dataframe tbody tr th:only-of-type {\n",
       "        vertical-align: middle;\n",
       "    }\n",
       "\n",
       "    .dataframe tbody tr th {\n",
       "        vertical-align: top;\n",
       "    }\n",
       "\n",
       "    .dataframe thead th {\n",
       "        text-align: right;\n",
       "    }\n",
       "</style>\n",
       "<table border=\"1\" class=\"dataframe\">\n",
       "  <thead>\n",
       "    <tr style=\"text-align: right;\">\n",
       "      <th>debt</th>\n",
       "      <th>0</th>\n",
       "      <th>1</th>\n",
       "      <th>percent</th>\n",
       "    </tr>\n",
       "    <tr>\n",
       "      <th>family_status</th>\n",
       "      <th></th>\n",
       "      <th></th>\n",
       "      <th></th>\n",
       "    </tr>\n",
       "  </thead>\n",
       "  <tbody>\n",
       "    <tr>\n",
       "      <th>civil partnership</th>\n",
       "      <td>3763</td>\n",
       "      <td>388</td>\n",
       "      <td>9.35</td>\n",
       "    </tr>\n",
       "    <tr>\n",
       "      <th>divorced</th>\n",
       "      <td>1110</td>\n",
       "      <td>85</td>\n",
       "      <td>7.11</td>\n",
       "    </tr>\n",
       "    <tr>\n",
       "      <th>married</th>\n",
       "      <td>11408</td>\n",
       "      <td>931</td>\n",
       "      <td>7.55</td>\n",
       "    </tr>\n",
       "    <tr>\n",
       "      <th>unmarried</th>\n",
       "      <td>2536</td>\n",
       "      <td>274</td>\n",
       "      <td>9.75</td>\n",
       "    </tr>\n",
       "    <tr>\n",
       "      <th>widow / widower</th>\n",
       "      <td>896</td>\n",
       "      <td>63</td>\n",
       "      <td>6.57</td>\n",
       "    </tr>\n",
       "  </tbody>\n",
       "</table>\n",
       "</div>"
      ],
      "text/plain": [
       "debt                   0    1  percent\n",
       "family_status                         \n",
       "civil partnership   3763  388     9.35\n",
       "divorced            1110   85     7.11\n",
       "married            11408  931     7.55\n",
       "unmarried           2536  274     9.75\n",
       "widow / widower      896   63     6.57"
      ]
     },
     "execution_count": 71,
     "metadata": {},
     "output_type": "execute_result"
    }
   ],
   "source": [
    "status_t['percent'] = status_t.apply(calculate_debt_percent, axis = 1)\n",
    "status_t"
   ]
  },
  {
   "cell_type": "markdown",
   "metadata": {},
   "source": [
    "Conclusions: <br>\n",
    "From the groups of people who are unmarried or are in a civil partnership <br>\n",
    "There are about 9% of unpaid loans.\n",
    "Yet with the married there are only 7.5% of unpaid loans.<br>\n",
    "Also with the divorced it is a very similar number 7.1% <br>\n",
    "And the widow which are people who used to be married the number is even lower, only 6.5%<br>\n",
    "My conclusion is: <br>\n",
    "there is a relation between marital status and the ability to repay a loan on time.<br>\n",
    "Married people have a better chance of paying on time."
   ]
  },
  {
   "cell_type": "code",
   "execution_count": null,
   "metadata": {},
   "outputs": [],
   "source": []
  },
  {
   "cell_type": "markdown",
   "metadata": {},
   "source": [
    "### 3.3 Is there a connection between income level and repaying a loan on time?<a class=\"anchor\" id=\"3.3\"></a>"
   ]
  },
  {
   "cell_type": "markdown",
   "metadata": {},
   "source": [
    "lets look at the distribution on income"
   ]
  },
  {
   "cell_type": "code",
   "execution_count": 72,
   "metadata": {},
   "outputs": [
    {
     "data": {
      "image/png": "[encoded data removed]",
      "text/plain": [
       "<Figure size 1080x360 with 1 Axes>"
      ]
     },
     "metadata": {
      "needs_background": "light"
     },
     "output_type": "display_data"
    }
   ],
   "source": [
    "histogram(credit_scoring,'total_income', 'Distribution of income', 'income', 'amount')"
   ]
  },
  {
   "cell_type": "markdown",
   "metadata": {},
   "source": [
    "lets look with the range of up to 100000"
   ]
  },
  {
   "cell_type": "code",
   "execution_count": 73,
   "metadata": {},
   "outputs": [
    {
     "data": {
      "image/png": "[encoded data removed]",
      "text/plain": [
       "<Figure size 432x288 with 1 Axes>"
      ]
     },
     "metadata": {
      "needs_background": "light"
     },
     "output_type": "display_data"
    }
   ],
   "source": [
    "credit_scoring[credit_scoring['total_income'] <= 100000].boxplot(column=['total_income'])\n",
    "plt.title('total income')\n",
    "plt.show()"
   ]
  },
  {
   "cell_type": "code",
   "execution_count": 74,
   "metadata": {},
   "outputs": [
    {
     "data": {
      "text/plain": [
       "count   21,355.00\n",
       "mean    23,617.08\n",
       "std     15,258.89\n",
       "min          0.00\n",
       "25%     14,220.50\n",
       "50%     21,663.00\n",
       "75%     31,175.50\n",
       "max     99,944.00\n",
       "Name: total_income, dtype: float64"
      ]
     },
     "execution_count": 74,
     "metadata": {},
     "output_type": "execute_result"
    }
   ],
   "source": [
    "credit_scoring[credit_scoring['total_income'] <= 100000]['total_income'].describe()"
   ]
  },
  {
   "cell_type": "markdown",
   "metadata": {},
   "source": [
    "We can see that that incomes of over 50000 are outliers.<br>\n",
    "We will calculate the percentage of rows with debt for different income levels.<br>\n",
    "The levels will be:<br>\n",
    "0 to 15000<br>\n",
    "15000 to 22000<br>\n",
    "22000 to 32000<br>\n",
    "32000 to 50000<br>\n",
    "50000 and above.\n"
   ]
  },
  {
   "cell_type": "code",
   "execution_count": 75,
   "metadata": {},
   "outputs": [],
   "source": [
    "def calculate_percent_by_income(low, high):    \n",
    "    with_debt = credit_scoring[(credit_scoring['total_income'] >= low)\\\n",
    "                               & (credit_scoring['total_income'] < high ) & (credit_scoring['debt'] == 1)]['children'].count()\n",
    "    no_debt = credit_scoring[(credit_scoring['total_income'] >= low) \\\n",
    "                             & (credit_scoring['total_income'] < high ) & (credit_scoring['debt'] == 0)]['children'].count()\n",
    "    percent = 100 * with_debt / (with_debt + no_debt)\n",
    "    \n",
    "    print('between the range of {} and {}.'. format(low, high))\n",
    "    print('there are {} clients with debt. and {} without.'. format(with_debt, no_debt))\n",
    "    print('{:.2f}% have a debt'.format(percent))"
   ]
  },
  {
   "cell_type": "markdown",
   "metadata": {},
   "source": [
    "lets calculate the general % of debt"
   ]
  },
  {
   "cell_type": "code",
   "execution_count": 76,
   "metadata": {},
   "outputs": [
    {
     "name": "stdout",
     "output_type": "stream",
     "text": [
      "between the range of 0 and 500000.\n",
      "there are 1741 clients with debt. and 19713 without.\n",
      "8.12% have a debt\n"
     ]
    }
   ],
   "source": [
    "calculate_percent_by_income(0, 500000)"
   ]
  },
  {
   "cell_type": "markdown",
   "metadata": {},
   "source": [
    "for range: 0 to 15000"
   ]
  },
  {
   "cell_type": "code",
   "execution_count": 77,
   "metadata": {},
   "outputs": [
    {
     "name": "stdout",
     "output_type": "stream",
     "text": [
      "between the range of 0 and 15000.\n",
      "there are 468 clients with debt. and 5378 without.\n",
      "8.01% have a debt\n"
     ]
    }
   ],
   "source": [
    "calculate_percent_by_income(0, 15000)"
   ]
  },
  {
   "cell_type": "markdown",
   "metadata": {},
   "source": [
    "for range: 22000 to 32000"
   ]
  },
  {
   "cell_type": "code",
   "execution_count": 78,
   "metadata": {},
   "outputs": [
    {
     "name": "stdout",
     "output_type": "stream",
     "text": [
      "between the range of 22000 and 32000.\n",
      "there are 487 clients with debt. and 4984 without.\n",
      "8.90% have a debt\n"
     ]
    }
   ],
   "source": [
    "calculate_percent_by_income(22000, 32000)"
   ]
  },
  {
   "cell_type": "markdown",
   "metadata": {},
   "source": [
    "for range: 22000 to 32000"
   ]
  },
  {
   "cell_type": "code",
   "execution_count": 79,
   "metadata": {},
   "outputs": [
    {
     "name": "stdout",
     "output_type": "stream",
     "text": [
      "between the range of 32000 and 50000.\n",
      "there are 266 clients with debt. and 3480 without.\n",
      "7.10% have a debt\n"
     ]
    }
   ],
   "source": [
    "calculate_percent_by_income(32000, 50000)"
   ]
  },
  {
   "cell_type": "markdown",
   "metadata": {},
   "source": [
    "for range: 50000 and avove"
   ]
  },
  {
   "cell_type": "code",
   "execution_count": 80,
   "metadata": {},
   "outputs": [
    {
     "name": "stdout",
     "output_type": "stream",
     "text": [
      "between the range of 50000 and 500000.\n",
      "there are 92 clients with debt. and 1228 without.\n",
      "6.97% have a debt\n"
     ]
    }
   ],
   "source": [
    "calculate_percent_by_income(50000, 500000)"
   ]
  },
  {
   "cell_type": "markdown",
   "metadata": {},
   "source": [
    "Conclusions: <br>\n",
    "We can see that for low income, below average income,<br>\n",
    "around 22000, the percent of debt is above 8 %.<br>\n",
    "While it is at 7.1 % at above average income, <br>\n",
    "And 6.9% at incomes above 50000<br>\n",
    "<br>\n",
    "My conclusion is:<br>\n",
    "there is a relation between income level and repaying on a loan.<br>\n",
    "With lower income there is a bigger chance on defaulting on a loan\n"
   ]
  },
  {
   "cell_type": "code",
   "execution_count": null,
   "metadata": {},
   "outputs": [],
   "source": []
  },
  {
   "cell_type": "markdown",
   "metadata": {},
   "source": [
    "### 3.4 How do different loan purposes affect on-time loan repayment?<a class=\"anchor\" id=\"3.4\"></a>"
   ]
  },
  {
   "cell_type": "markdown",
   "metadata": {},
   "source": [
    "Will check for each category how many took a loan, and how many were in debt.<br>\n",
    "And will compare the percentage.\n"
   ]
  },
  {
   "cell_type": "code",
   "execution_count": 81,
   "metadata": {},
   "outputs": [
    {
     "data": {
      "text/html": [
       "<div>\n",
       "<style scoped>\n",
       "    .dataframe tbody tr th:only-of-type {\n",
       "        vertical-align: middle;\n",
       "    }\n",
       "\n",
       "    .dataframe tbody tr th {\n",
       "        vertical-align: top;\n",
       "    }\n",
       "\n",
       "    .dataframe thead th {\n",
       "        text-align: right;\n",
       "    }\n",
       "</style>\n",
       "<table border=\"1\" class=\"dataframe\">\n",
       "  <thead>\n",
       "    <tr style=\"text-align: right;\">\n",
       "      <th>steam</th>\n",
       "      <th>car</th>\n",
       "      <th>education</th>\n",
       "      <th>real estate</th>\n",
       "      <th>wedding</th>\n",
       "    </tr>\n",
       "    <tr>\n",
       "      <th>debt</th>\n",
       "      <th></th>\n",
       "      <th></th>\n",
       "      <th></th>\n",
       "      <th></th>\n",
       "    </tr>\n",
       "  </thead>\n",
       "  <tbody>\n",
       "    <tr>\n",
       "      <th>0</th>\n",
       "      <td>3903</td>\n",
       "      <td>3643</td>\n",
       "      <td>10029</td>\n",
       "      <td>2138</td>\n",
       "    </tr>\n",
       "    <tr>\n",
       "      <th>1</th>\n",
       "      <td>403</td>\n",
       "      <td>370</td>\n",
       "      <td>782</td>\n",
       "      <td>186</td>\n",
       "    </tr>\n",
       "  </tbody>\n",
       "</table>\n",
       "</div>"
      ],
      "text/plain": [
       "steam   car  education  real estate  wedding\n",
       "debt                                        \n",
       "0      3903       3643        10029     2138\n",
       "1       403        370          782      186"
      ]
     },
     "execution_count": 81,
     "metadata": {},
     "output_type": "execute_result"
    }
   ],
   "source": [
    "debt = credit_scoring.pivot_table(index = 'debt', values = 'days_employed', columns = 'steam', aggfunc = 'count')\n",
    "debt"
   ]
  },
  {
   "cell_type": "code",
   "execution_count": 82,
   "metadata": {},
   "outputs": [
    {
     "data": {
      "text/html": [
       "<div>\n",
       "<style scoped>\n",
       "    .dataframe tbody tr th:only-of-type {\n",
       "        vertical-align: middle;\n",
       "    }\n",
       "\n",
       "    .dataframe tbody tr th {\n",
       "        vertical-align: top;\n",
       "    }\n",
       "\n",
       "    .dataframe thead th {\n",
       "        text-align: right;\n",
       "    }\n",
       "</style>\n",
       "<table border=\"1\" class=\"dataframe\">\n",
       "  <thead>\n",
       "    <tr style=\"text-align: right;\">\n",
       "      <th>debt</th>\n",
       "      <th>0</th>\n",
       "      <th>1</th>\n",
       "    </tr>\n",
       "    <tr>\n",
       "      <th>steam</th>\n",
       "      <th></th>\n",
       "      <th></th>\n",
       "    </tr>\n",
       "  </thead>\n",
       "  <tbody>\n",
       "    <tr>\n",
       "      <th>car</th>\n",
       "      <td>3903</td>\n",
       "      <td>403</td>\n",
       "    </tr>\n",
       "    <tr>\n",
       "      <th>education</th>\n",
       "      <td>3643</td>\n",
       "      <td>370</td>\n",
       "    </tr>\n",
       "    <tr>\n",
       "      <th>real estate</th>\n",
       "      <td>10029</td>\n",
       "      <td>782</td>\n",
       "    </tr>\n",
       "    <tr>\n",
       "      <th>wedding</th>\n",
       "      <td>2138</td>\n",
       "      <td>186</td>\n",
       "    </tr>\n",
       "  </tbody>\n",
       "</table>\n",
       "</div>"
      ],
      "text/plain": [
       "debt             0    1\n",
       "steam                  \n",
       "car           3903  403\n",
       "education     3643  370\n",
       "real estate  10029  782\n",
       "wedding       2138  186"
      ]
     },
     "execution_count": 82,
     "metadata": {},
     "output_type": "execute_result"
    }
   ],
   "source": [
    "debt_t = debt.T\n",
    "debt_t"
   ]
  },
  {
   "cell_type": "code",
   "execution_count": 83,
   "metadata": {},
   "outputs": [
    {
     "data": {
      "text/html": [
       "<div>\n",
       "<style scoped>\n",
       "    .dataframe tbody tr th:only-of-type {\n",
       "        vertical-align: middle;\n",
       "    }\n",
       "\n",
       "    .dataframe tbody tr th {\n",
       "        vertical-align: top;\n",
       "    }\n",
       "\n",
       "    .dataframe thead th {\n",
       "        text-align: right;\n",
       "    }\n",
       "</style>\n",
       "<table border=\"1\" class=\"dataframe\">\n",
       "  <thead>\n",
       "    <tr style=\"text-align: right;\">\n",
       "      <th>debt</th>\n",
       "      <th>0</th>\n",
       "      <th>1</th>\n",
       "      <th>percent</th>\n",
       "    </tr>\n",
       "    <tr>\n",
       "      <th>steam</th>\n",
       "      <th></th>\n",
       "      <th></th>\n",
       "      <th></th>\n",
       "    </tr>\n",
       "  </thead>\n",
       "  <tbody>\n",
       "    <tr>\n",
       "      <th>car</th>\n",
       "      <td>3903</td>\n",
       "      <td>403</td>\n",
       "      <td>9.36</td>\n",
       "    </tr>\n",
       "    <tr>\n",
       "      <th>education</th>\n",
       "      <td>3643</td>\n",
       "      <td>370</td>\n",
       "      <td>9.22</td>\n",
       "    </tr>\n",
       "    <tr>\n",
       "      <th>real estate</th>\n",
       "      <td>10029</td>\n",
       "      <td>782</td>\n",
       "      <td>7.23</td>\n",
       "    </tr>\n",
       "    <tr>\n",
       "      <th>wedding</th>\n",
       "      <td>2138</td>\n",
       "      <td>186</td>\n",
       "      <td>8.00</td>\n",
       "    </tr>\n",
       "  </tbody>\n",
       "</table>\n",
       "</div>"
      ],
      "text/plain": [
       "debt             0    1  percent\n",
       "steam                           \n",
       "car           3903  403     9.36\n",
       "education     3643  370     9.22\n",
       "real estate  10029  782     7.23\n",
       "wedding       2138  186     8.00"
      ]
     },
     "execution_count": 83,
     "metadata": {},
     "output_type": "execute_result"
    }
   ],
   "source": [
    "debt_t['percent'] = debt_t.apply(calculate_debt_percent, axis = 1)\n",
    "debt_t"
   ]
  },
  {
   "cell_type": "markdown",
   "metadata": {},
   "source": [
    "Conclusions: <br>\n",
    "Loan for real estate have about 7.2% cases of debt, this is the lowest value.<br>\n",
    "Next comes weddings with about 8%<br>\n",
    "Then education & cars with almost the same value of about 9.2%\n",
    "\n",
    "My conclusion:<br>\n",
    "is that real estate loans have a higher chance of being repaid.<br>\n",
    "And that loans for cars or education have a high risk of being defaulted.\n"
   ]
  },
  {
   "cell_type": "code",
   "execution_count": null,
   "metadata": {},
   "outputs": [],
   "source": []
  },
  {
   "cell_type": "markdown",
   "metadata": {},
   "source": [
    "### Step 4. Write an overall conclusion.<a class=\"anchor\" id=\"4\"></a>"
   ]
  },
  {
   "cell_type": "markdown",
   "metadata": {},
   "source": [
    "The purpose of this research is to help the loan division of the bank a build credit scoring to a potential costumer.<br>\n",
    "General rule of thumb, the more children there are, <br>\n",
    "the higher the chance for defaulting on a loan, About 9%<br>\n",
    "With big families, those with 5 children are an exception, <br>\n",
    "there are actually no reported cases with debt.<br>\n",
    "Those with no children have a chance of 7.5%<br>\n",
    "<br>\n",
    "Clients currently or that were married in the past tend to be better at returning loans, <br>\n",
    "about 7% then those who were not, about 9.5%<br>\n",
    "<br>\n",
    "Out of Clients with an income below the average, 22000, about 8.5% had debt.<br>\n",
    "With about 7% for those with above average income.<br>\n",
    "<br>\n",
    "The debt on real estate loans was 7.2%, <br>\n",
    "While above 9% for car or education.<br>\n",
    "<br>\n",
    "My recommendation:<br>\n",
    "We should prefer a client who is married, with no children with above average income that would like a loan for real-estate.<br>\n",
    "<br>\n",
    "While we need to be careful with single clients who would like to take a loan in order to buy a car or get an education.\n",
    "\n"
   ]
  },
  {
   "cell_type": "code",
   "execution_count": null,
   "metadata": {},
   "outputs": [],
   "source": []
  }
 ],
 "metadata": {
  "kernelspec": {
   "display_name": "Python 3",
   "language": "python",
   "name": "python3"
  },
  "language_info": {
   "codemirror_mode": {
    "name": "ipython",
    "version": 3
   },
   "file_extension": ".py",
   "mimetype": "text/x-python",
   "name": "python",
   "nbconvert_exporter": "python",
   "pygments_lexer": "ipython3",
   "version": "3.7.6"
  }
 },
 "nbformat": 4,
 "nbformat_minor": 4
}
